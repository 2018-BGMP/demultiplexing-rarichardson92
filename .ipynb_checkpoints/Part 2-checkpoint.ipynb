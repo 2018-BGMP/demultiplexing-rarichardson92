{
 "cells": [
  {
   "cell_type": "code",
   "execution_count": null,
   "metadata": {},
   "outputs": [],
   "source": [
    "Problem:\n",
    "Indexes from read 1 should match with indexes of associated reads from read 2.\n",
    "If the index from read 1 matches a different index, this is an instance of index hopping.\n",
    "Sort out correctly indexed reads from index hopping, poor quality, and undefined indexes.\n",
    "Report number of properly matched indexes per index and level of index hopping."
   ]
  },
  {
   "cell_type": "code",
   "execution_count": null,
   "metadata": {},
   "outputs": [],
   "source": [
    "Useful output:\n",
    "\n",
    "For each index:\n",
    "-file with read 1 matches (per index, no index hopping)\n",
    "-file with read 2 matches (per index, no index hopping)\n",
    "-Output index hopping/undetermined/low index OR read quality scores\n",
    "\n",
    "Print:\n",
    "-Relevant Index\n",
    "-Number of total index matches\n",
    "-Number of pairs of index matches per index\n",
    "-Number and percent of unknown index reads\n",
    "-Number and percent of index hopping\n",
    "\n"
   ]
  },
  {
   "cell_type": "code",
   "execution_count": null,
   "metadata": {},
   "outputs": [],
   "source": [
    "Examples and unit tests"
   ]
  },
  {
   "cell_type": "code",
   "execution_count": null,
   "metadata": {},
   "outputs": [],
   "source": [
    "High level functions:\n",
    "    \n",
    "-Check index quality, discard if too low\n",
    "    -Call quality score conversion function\n",
    "    \n",
    "-Check match to intended index input\n",
    "    -Error correct where applicable for mismatches, otherwise discard read\n",
    "\n",
    "-Check match with paired read index, discard is conditions not met:\n",
    "        -Good paired index quality, discard if too low\n",
    "        -Good paired index match to intended index input\n",
    "            -Error correct where possible, otherwise discard\n",
    "        -index matches paired index, otherwise discard\n",
    "\n",
    "-If not discarded, output reads to appropriate output files"
   ]
  },
  {
   "cell_type": "code",
   "execution_count": null,
   "metadata": {},
   "outputs": [],
   "source": [
    "Sorta pseudocode:"
   ]
  },
  {
   "cell_type": "code",
   "execution_count": null,
   "metadata": {},
   "outputs": [],
   "source": [
    "Initailize intended index set\n",
    "use set to initailize intended-index dictionary, intended index : 0\n",
    "    Dictionary will increment with correctly matched indexes for pair end reads\n",
    "Index hopping = {}, stores index hopping associations and number of occurances\n",
    "    \n",
    "Define functions\n",
    "\n",
    "for each index in index1 file, check index sequence line to intended index set and correct to nearest as needed (mismatch < 4), otherwise notate as \"bad\".\n",
    "Check quality scores for each index that is not \"bad\"\n",
    "Keep a dictionary of all good (not \"bad\") indexes with quality scores above 30, LN of header : index\n",
    "\n",
    "Repeat for index2 file\n",
    "\n",
    "Compare good dictionaries of index1 and index2.\n",
    "(LNs present in one but not the other indicate a low quality index in one of the two indexes => unknown index)\n",
    "(LNs absent in both indicate a low quality index for both => unknown indexes)\n",
    "\n",
    "Where they both have the same line number (LN), determine if indexes match.\n",
    "Matching = good reads, intended index [index] += 1, store in matching indexes dictionary as kept for above indexes; LN of header : index\n",
    "Not-matching = index hopping, index hopping [index1-index2] += 1\n",
    "\n",
    "For read1 file, if line number exists in matching index dictionary, \n",
    "check qscore average of read\n",
    "if qscore >30, write record to output file name based on index.read1 (acessed via matchingindex[LN])\n",
    "All others go in unknown index file, should include low quality index/read, uncorrectable (or too many mismatches) index, and index hopped reads\n",
    "\n",
    "Repeat for read2 file with index.read2\n",
    "\n",
    "Report: \n",
    "total number of reads (1452986940/4)\n",
    "number and percent of total reads correctly indexed and sequenced compared to total, (sum dictionary)\n",
    "number and percent of index hopping compared to total (sum index hopping dictionary)\n",
    "number and percent of other low quality reads compared to total (subtract correct, index hopping from total)\n",
    "number and percent of correct reads occuring per index as compared to total correct reads (print dictionary)\n",
    "number and percent of index hopping occuring per index pair as compared to total index hopping (print dictionary)"
   ]
  }
 ],
 "metadata": {
  "kernelspec": {
   "display_name": "Python 3",
   "language": "python",
   "name": "python3"
  },
  "language_info": {
   "codemirror_mode": {
    "name": "ipython",
    "version": 3
   },
   "file_extension": ".py",
   "mimetype": "text/x-python",
   "name": "python",
   "nbconvert_exporter": "python",
   "pygments_lexer": "ipython3",
   "version": "3.6.5"
  }
 },
 "nbformat": 4,
 "nbformat_minor": 2
}
