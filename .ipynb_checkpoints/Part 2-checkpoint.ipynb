{
 "cells": [
  {
   "cell_type": "code",
   "execution_count": null,
   "metadata": {},
   "outputs": [],
   "source": [
    "Problem:\n",
    "Indexes from read 1 should match with indexes of associated reads from read 2.\n",
    "If the index from read 1 matches a different index, this is an instance of index hopping.\n",
    "Sort out correctly indexed reads from index hopping, poor quality, and undefined indexes.\n",
    "Report number of properly matched indexes per index and level of index hopping."
   ]
  },
  {
   "cell_type": "code",
   "execution_count": null,
   "metadata": {},
   "outputs": [],
   "source": [
    "Useful output:\n",
    "\n",
    "For each index:\n",
    "-file with read 1 matches (per index, no index hopping)\n",
    "-file with read 2 matches (per index, no index hopping)\n",
    "-Output index hopping/undetermined/low index OR read quality scores\n",
    "\n",
    "Print:\n",
    "-Relevant Index\n",
    "-Number of total index matches\n",
    "-Number of pairs of index matches per index\n",
    "-Number and percent of unknown index reads\n",
    "-Number and percent of index hopping\n",
    "\n"
   ]
  },
  {
   "cell_type": "code",
   "execution_count": null,
   "metadata": {},
   "outputs": [],
   "source": [
    "Examples and unit tests:\n",
    "GTAGCGTA index should have 2 read2 records, 2 read1 records\n",
    "AACAGCGA index should have 1 read2 records, 1 read1 records\n",
    "GATCAAGG index should have 1 read2 records, 1 read1 records\n",
    "(None for CGATCGAT, empty file)\n",
    "Unknown read1: 6 (1 indexhop, 1 low quality read sequence, 4 low quality indexes)\n",
    "Unknown read2: 6 (1 indexhop, 1 low quality read sequence, 4 low quality indexes)\n",
    "    "
   ]
  },
  {
   "cell_type": "code",
   "execution_count": null,
   "metadata": {},
   "outputs": [],
   "source": [
    "High level functions:\n",
    "    \n",
    "-Check sequence quality, discard if too low = return average quality score\n",
    "    -Call quality score conversion function = return quality score\n",
    "    \n",
    "-Check match to intended index input = return index or \"bad\"\n",
    "    -Error correct where applicable for mismatches, otherwise \"bad\"\n",
    "\n",
    "-Check good indexes with good paired read index, discard if conditions not met:\n",
    "        -index matches paired index or index hopping\n",
    "    return index hopping +=1 or index match +=1\n",
    "\n",
    "-If not discarded, output reads to appropriate output files"
   ]
  },
  {
   "cell_type": "code",
   "execution_count": null,
   "metadata": {},
   "outputs": [],
   "source": [
    "Tests:\n",
    "    Low quality scores for indexes on read1, read2, and both\n",
    "    High quality scores for indexes on read1, read2, and both\n",
    "    Low quality scores for reads on read1, read2, and both\n",
    "    High quality scores for reads on read1, read2, and both\n",
    "    mismatched indexes for read1/read2\n",
    "    Index reads that need to be corrected for read1, read2, and both\n",
    "    Index reads that cannot be corrected for read1, read2, and both\n",
    "    Number match to known numbers for sorting stats"
   ]
  },
  {
   "cell_type": "code",
   "execution_count": null,
   "metadata": {},
   "outputs": [],
   "source": [
    "Sorta pseudocode:"
   ]
  },
  {
   "cell_type": "code",
   "execution_count": null,
   "metadata": {},
   "outputs": [],
   "source": [
    "Initailize intended index set\n",
    "use set to initailize intended-index dictionary, intended index : 0\n",
    "    Dictionary will increment with correctly matched indexes for pair end reads\n",
    "Index hopping = {}, stores index hopping associations and number of occurances\n",
    "    \n",
    "Define functions\n",
    "\n",
    "for each index in index1 file, check index sequence line to intended index set and correct to nearest as needed (mismatch < 4), otherwise notate as \"bad\".\n",
    "Check quality scores for each index that is not \"bad\"\n",
    "Keep a dictionary of all good (not \"bad\") indexes with quality scores above 30, LN of header : index\n",
    "\n",
    "Repeat for index2 file\n",
    "\n",
    "Compare good dictionaries of index1 and index2.\n",
    "(LNs present in one but not the other indicate a low quality index in one of the two indexes => unknown index)\n",
    "(LNs absent in both indicate a low quality index for both => unknown indexes)\n",
    "\n",
    "Where they both have the same line number (LN), determine if indexes match.\n",
    "Matching = good reads, intended index [index] += 1, store in matching indexes dictionary as kept for above indexes; LN of header : index\n",
    "Not-matching = index hopping, index hopping [index1-index2] += 1\n",
    "\n",
    "For read1 file, if line number exists in matching index dictionary, \n",
    "check qscore average of read\n",
    "open up read2 file and find matching LN, check qscore average of read\n",
    "if qscores >30, write records to output file name based on index.read1 and index.read2 (acessed via matchingindex[LN])\n",
    "All others go in unknown index file, should include low quality index/read, uncorrectable (or too many mismatches) index, and index hopped reads\n",
    "\n",
    "Repeat for read2 file with index.read2\n",
    "\n",
    "Report: \n",
    "total number of reads (1452986940/4)\n",
    "number and percent of total reads correctly indexed and sequenced compared to total, (sum dictionary)\n",
    "number and percent of index hopping compared to total (sum index hopping dictionary)\n",
    "number and percent of other low quality reads compared to total (subtract correct, index hopping from total)\n",
    "number and percent of correct reads occuring per index as compared to total correct reads (print dictionary)\n",
    "number and percent of index hopping occuring per index pair as compared to total index hopping (print dictionary)"
   ]
  }
 ],
 "metadata": {
  "kernelspec": {
   "display_name": "Python 3",
   "language": "python",
   "name": "python3"
  },
  "language_info": {
   "codemirror_mode": {
    "name": "ipython",
    "version": 3
   },
   "file_extension": ".py",
   "mimetype": "text/x-python",
   "name": "python",
   "nbconvert_exporter": "python",
   "pygments_lexer": "ipython3",
   "version": "3.6.5"
  }
 },
 "nbformat": 4,
 "nbformat_minor": 2
}
